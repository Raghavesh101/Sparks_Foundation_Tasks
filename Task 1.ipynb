{
 "cells": [
  {
   "attachments": {
    "image.png": {
     "image/png": "[encoded data removed]"
    }
   },
   "cell_type": "markdown",
   "id": "99bac992",
   "metadata": {},
   "source": [
    "# The Sparks Foundation (GRIP'23)\n",
    "  ![image.png](attachment:image.png)\n",
    "## Task 1 - Linear Regression Analysis\n",
    "\n",
    "#### Aim: To predict the percentage of a student based on the number of study hours\n",
    "#### Author: Raghavesh Mishra\n"
   ]
  },
  {
   "cell_type": "code",
   "execution_count": 3,
   "id": "7c9da73d",
   "metadata": {},
   "outputs": [],
   "source": [
    "# Importing libraries \n",
    "import numpy as np\n",
    "import pandas as pd\n",
    "import matplotlib.pyplot as plt  \n",
    "%matplotlib inline"
   ]
  },
  {
   "cell_type": "code",
   "execution_count": 5,
   "id": "1a45ab94",
   "metadata": {},
   "outputs": [
    {
     "data": {
      "text/html": [
       "<div>\n",
       "<style scoped>\n",
       "    .dataframe tbody tr th:only-of-type {\n",
       "        vertical-align: middle;\n",
       "    }\n",
       "\n",
       "    .dataframe tbody tr th {\n",
       "        vertical-align: top;\n",
       "    }\n",
       "\n",
       "    .dataframe thead th {\n",
       "        text-align: right;\n",
       "    }\n",
       "</style>\n",
       "<table border=\"1\" class=\"dataframe\">\n",
       "  <thead>\n",
       "    <tr style=\"text-align: right;\">\n",
       "      <th></th>\n",
       "      <th>Hours</th>\n",
       "      <th>Scores</th>\n",
       "    </tr>\n",
       "  </thead>\n",
       "  <tbody>\n",
       "    <tr>\n",
       "      <th>0</th>\n",
       "      <td>2.5</td>\n",
       "      <td>21</td>\n",
       "    </tr>\n",
       "    <tr>\n",
       "      <th>1</th>\n",
       "      <td>5.1</td>\n",
       "      <td>47</td>\n",
       "    </tr>\n",
       "    <tr>\n",
       "      <th>2</th>\n",
       "      <td>3.2</td>\n",
       "      <td>27</td>\n",
       "    </tr>\n",
       "    <tr>\n",
       "      <th>3</th>\n",
       "      <td>8.5</td>\n",
       "      <td>75</td>\n",
       "    </tr>\n",
       "    <tr>\n",
       "      <th>4</th>\n",
       "      <td>3.5</td>\n",
       "      <td>30</td>\n",
       "    </tr>\n",
       "  </tbody>\n",
       "</table>\n",
       "</div>"
      ],
      "text/plain": [
       "   Hours  Scores\n",
       "0    2.5      21\n",
       "1    5.1      47\n",
       "2    3.2      27\n",
       "3    8.5      75\n",
       "4    3.5      30"
      ]
     },
     "execution_count": 5,
     "metadata": {},
     "output_type": "execute_result"
    }
   ],
   "source": [
    "# Reading the data\n",
    "df = pd.read_csv(\"test_score_data.csv\");\n",
    "df.head()"
   ]
  },
  {
   "cell_type": "code",
   "execution_count": 7,
   "id": "d7207a68",
   "metadata": {},
   "outputs": [
    {
     "data": {
      "text/plain": [
       "(25, 2)"
      ]
     },
     "execution_count": 7,
     "metadata": {},
     "output_type": "execute_result"
    }
   ],
   "source": [
    "df.shape"
   ]
  },
  {
   "cell_type": "code",
   "execution_count": 11,
   "id": "7088210f",
   "metadata": {},
   "outputs": [
    {
     "data": {
      "text/plain": [
       "count    25.000000\n",
       "mean     51.480000\n",
       "std      25.286887\n",
       "min      17.000000\n",
       "25%      30.000000\n",
       "50%      47.000000\n",
       "75%      75.000000\n",
       "max      95.000000\n",
       "Name: Scores, dtype: float64"
      ]
     },
     "execution_count": 11,
     "metadata": {},
     "output_type": "execute_result"
    }
   ],
   "source": [
    "df['Hours'].describe()\n",
    "df['Scores'].describe()"
   ]
  },
  {
   "cell_type": "code",
   "execution_count": 14,
   "id": "6463da78",
   "metadata": {},
   "outputs": [
    {
     "data": {
      "image/png": "[encoded data removed]",
      "text/plain": [
       "<Figure size 432x288 with 1 Axes>"
      ]
     },
     "metadata": {
      "needs_background": "light"
     },
     "output_type": "display_data"
    }
   ],
   "source": [
    "# Visualization usign scatter plot:\n",
    "df.plot(x='Hours', y='Scores', style='o',color = \"Green\")  \n",
    "\n",
    "plt.title('Scatter Plot')  \n",
    "\n",
    "plt.xlabel('Hours Studied')  \n",
    "\n",
    "plt.ylabel('Percentage Score')  \n",
    "\n",
    "plt.show()"
   ]
  },
  {
   "cell_type": "code",
   "execution_count": 15,
   "id": "2af9d918",
   "metadata": {},
   "outputs": [
    {
     "data": {
      "text/html": [
       "<div>\n",
       "<style scoped>\n",
       "    .dataframe tbody tr th:only-of-type {\n",
       "        vertical-align: middle;\n",
       "    }\n",
       "\n",
       "    .dataframe tbody tr th {\n",
       "        vertical-align: top;\n",
       "    }\n",
       "\n",
       "    .dataframe thead th {\n",
       "        text-align: right;\n",
       "    }\n",
       "</style>\n",
       "<table border=\"1\" class=\"dataframe\">\n",
       "  <thead>\n",
       "    <tr style=\"text-align: right;\">\n",
       "      <th></th>\n",
       "      <th>Hours</th>\n",
       "      <th>Scores</th>\n",
       "    </tr>\n",
       "  </thead>\n",
       "  <tbody>\n",
       "    <tr>\n",
       "      <th>Hours</th>\n",
       "      <td>1.000000</td>\n",
       "      <td>0.976191</td>\n",
       "    </tr>\n",
       "    <tr>\n",
       "      <th>Scores</th>\n",
       "      <td>0.976191</td>\n",
       "      <td>1.000000</td>\n",
       "    </tr>\n",
       "  </tbody>\n",
       "</table>\n",
       "</div>"
      ],
      "text/plain": [
       "           Hours    Scores\n",
       "Hours   1.000000  0.976191\n",
       "Scores  0.976191  1.000000"
      ]
     },
     "execution_count": 15,
     "metadata": {},
     "output_type": "execute_result"
    }
   ],
   "source": [
    "df.corr()\n",
    "# Here we can see that there is positive correlation between hours and scores:\n",
    "\n",
    "# Hence we can apply our regression model easily"
   ]
  },
  {
   "cell_type": "code",
   "execution_count": 20,
   "id": "b2836613",
   "metadata": {},
   "outputs": [],
   "source": [
    "# Defining our independent variable (X) and dependent variable (Y)\n",
    "\n",
    "X = df['Hours'].values  # Independent variable (study hours)\n",
    "\n",
    "Y = df['Scores'].values   # Dependent variable (percentage scores)"
   ]
  },
  {
   "cell_type": "code",
   "execution_count": 60,
   "id": "fd8920e2",
   "metadata": {},
   "outputs": [],
   "source": [
    "# Splitting the data into train and test\n",
    "from sklearn.model_selection import train_test_split  \n",
    "X_train, X_test, y_train, y_test = train_test_split(X, Y, \n",
    "                            test_size=0.2, random_state=0) "
   ]
  },
  {
   "cell_type": "code",
   "execution_count": 61,
   "id": "5c87e1dd",
   "metadata": {},
   "outputs": [
    {
     "name": "stdout",
     "output_type": "stream",
     "text": [
      "Estimated equation: Y = 2.02 + 9.91 * X\n"
     ]
    }
   ],
   "source": [
    "# Training the data\n",
    "from sklearn.linear_model import LinearRegression\n",
    "\n",
    "# Create a linear regression model\n",
    "model = LinearRegression()\n",
    "\n",
    "# Fit the model to your data\n",
    "model.fit(X_train.reshape(-1,1), y_train)\n",
    "\n",
    "# Get the intercept (b0) and slope coefficient (b1)\n",
    "intercept = model.intercept_\n",
    "slope = model.coef_[0]\n",
    "\n",
    "# Print the estimated equation\n",
    "print(f\"Estimated equation: Y = {intercept:.2f} + {slope:.2f} * X\")"
   ]
  },
  {
   "cell_type": "code",
   "execution_count": 62,
   "id": "c966f7af",
   "metadata": {},
   "outputs": [
    {
     "name": "stdout",
     "output_type": "stream",
     "text": [
      "R-squared (R²): 0.9527\n",
      "Mean Squared Error (MSE): 29.04\n",
      "Root Mean Squared Error (RMSE): 5.39\n"
     ]
    },
    {
     "data": {
      "image/png": "[encoded data removed]",
      "text/plain": [
       "<Figure size 720x432 with 1 Axes>"
      ]
     },
     "metadata": {
      "needs_background": "light"
     },
     "output_type": "display_data"
    }
   ],
   "source": [
    "from sklearn.metrics import r2_score, mean_squared_error\n",
    "import numpy as np\n",
    "\n",
    "# Assuming you already have your linear regression model 'model' fitted\n",
    "\n",
    "# Predict using the fitted model\n",
    "Y_pred = model.predict(X.reshape(-1, 1))\n",
    "\n",
    "# Calculate R-squared (R²)\n",
    "r_squared = r2_score(Y, Y_pred)\n",
    "\n",
    "# Calculate Mean Squared Error (MSE)\n",
    "mse = mean_squared_error(Y, Y_pred)\n",
    "\n",
    "# Calculate Root Mean Squared Error (RMSE)\n",
    "rmse = np.sqrt(mse)\n",
    "\n",
    "# Print evaluation metrics\n",
    "print(f\"R-squared (R²): {r_squared:.4f}\")\n",
    "print(f\"Mean Squared Error (MSE): {mse:.2f}\")\n",
    "print(f\"Root Mean Squared Error (RMSE): {rmse:.2f}\")\n",
    "\n",
    "# Create a scatter plot with the regression line\n",
    "plt.figure(figsize=(10, 6))\n",
    "plt.scatter(X, Y, label=\"Actual Data\", alpha=0.7)\n",
    "plt.plot(X, Y_pred, color='red', linewidth=2, label=\"Regression Line\")\n",
    "plt.xlabel(\"Study Hours\")\n",
    "plt.ylabel(\"Percentage\")\n",
    "plt.title(\"Linear Regression\")\n",
    "plt.legend()\n",
    "plt.grid(True)\n",
    "plt.show()"
   ]
  },
  {
   "cell_type": "code",
   "execution_count": 30,
   "id": "e0e876cb",
   "metadata": {},
   "outputs": [],
   "source": [
    "# Interpreting the result:\n",
    "# Positive correlation with less Mean squared error and high R2 value"
   ]
  },
  {
   "cell_type": "code",
   "execution_count": 63,
   "id": "a606a613",
   "metadata": {},
   "outputs": [
    {
     "name": "stdout",
     "output_type": "stream",
     "text": [
      "Predicted Percentage for 2.5 hours of study: 26.79%\n"
     ]
    }
   ],
   "source": [
    "study_hours_to_predict = 2.5 \n",
    "# Predicting  the percentage using the trained model\n",
    "predicted_percentage = model.predict(np.array([[study_hours_to_predict]]))\n",
    "# Print the predicted percentage\n",
    "print(f\"Predicted Percentage for {study_hours_to_predict} hours of study: {predicted_percentage[0]:.2f}%\")"
   ]
  },
  {
   "cell_type": "markdown",
   "id": "d1efefa9",
   "metadata": {},
   "source": [
    "#### Predicting score of a person who studied 9.25 hours"
   ]
  },
  {
   "cell_type": "code",
   "execution_count": 64,
   "id": "75809893",
   "metadata": {},
   "outputs": [
    {
     "name": "stdout",
     "output_type": "stream",
     "text": [
      "Predicted Percentage for 9.25 hours of study: 93.69%\n"
     ]
    }
   ],
   "source": [
    "study_hours_to_predict = 9.25\n",
    "# Predicting  the percentage using the trained model\n",
    "predicted_percentage = model.predict(np.array([[study_hours_to_predict]]))\n",
    "# Print the predicted percentage\n",
    "print(f\"Predicted Percentage for {study_hours_to_predict} hours of study: {predicted_percentage[0]:.2f}%\")"
   ]
  },
  {
   "cell_type": "code",
   "execution_count": 65,
   "id": "295bf884",
   "metadata": {},
   "outputs": [
    {
     "name": "stdout",
     "output_type": "stream",
     "text": [
      "   Actual  Predicted\n",
      "0      21  26.794801\n",
      "1      47  52.562508\n",
      "2      27  33.732261\n",
      "3      75  86.258740\n",
      "4      30  36.705458\n"
     ]
    }
   ],
   "source": [
    "#Comparing the actual vs predicted value\n",
    "comparison_df = pd.DataFrame({'Actual': Y, 'Predicted': Y_pred})\n",
    "print(comparison_df.head())"
   ]
  },
  {
   "cell_type": "code",
   "execution_count": 66,
   "id": "07cbf5e8",
   "metadata": {},
   "outputs": [
    {
     "name": "stdout",
     "output_type": "stream",
     "text": [
      "Mean Absolute Error: 4.986053347144891\n"
     ]
    }
   ],
   "source": [
    "from sklearn import metrics  \n",
    "print('Mean Absolute Error:', \n",
    "      metrics.mean_absolute_error(Y, Y_pred)) "
   ]
  },
  {
   "cell_type": "code",
   "execution_count": null,
   "id": "bc1934a4",
   "metadata": {},
   "outputs": [],
   "source": []
  }
 ],
 "metadata": {
  "kernelspec": {
   "display_name": "Python 3 (ipykernel)",
   "language": "python",
   "name": "python3"
  },
  "language_info": {
   "codemirror_mode": {
    "name": "ipython",
    "version": 3
   },
   "file_extension": ".py",
   "mimetype": "text/x-python",
   "name": "python",
   "nbconvert_exporter": "python",
   "pygments_lexer": "ipython3",
   "version": "3.9.7"
  }
 },
 "nbformat": 4,
 "nbformat_minor": 5
}
